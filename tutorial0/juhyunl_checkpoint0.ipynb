{
 "cells": [
  {
   "cell_type": "markdown",
   "metadata": {
    "colab_type": "text",
    "id": "0a8IYAJUshu1"
   },
   "source": [
    "# Checkpoint 0 "
   ]
  },
  {
   "cell_type": "markdown",
   "metadata": {},
   "source": [
    "These exercises are a mix of Python and Pandas practice. Most should be no more than a few lines of code! "
   ]
  },
  {
   "cell_type": "code",
   "execution_count": 1,
   "metadata": {
    "colab": {},
    "colab_type": "code",
    "id": "Jo6wuTgkshu1"
   },
   "outputs": [],
   "source": [
    "# here is a Python list:\n",
    "\n",
    "a = [1, 2, 3, 4, 5, 6]\n"
   ]
  },
  {
   "cell_type": "code",
   "execution_count": 2,
   "id": "779d96b1",
   "metadata": {},
   "outputs": [
    {
     "name": "stdout",
     "output_type": "stream",
     "text": [
      "[4, 5, 6]\n"
     ]
    }
   ],
   "source": [
    "# get a list containing the last 3 elements of a\n",
    "# Yes, you can just type out [4, 5, 6] but we really want to see you demonstrate you know how to use li st slicing in Python\n",
    "\n",
    "\n",
    "last_three = a[-3:]  \n",
    "print(last_three)\n"
   ]
  },
  {
   "cell_type": "code",
   "execution_count": 3,
   "id": "b6a54def",
   "metadata": {},
   "outputs": [
    {
     "name": "stdout",
     "output_type": "stream",
     "text": [
      "[1, 2, 3, 4, 5, 6, 7, 8, 9, 10, 11, 12, 13, 14, 15, 16, 17, 18, 19, 20]\n"
     ]
    }
   ],
   "source": [
    "# create a list of numbers from 1 to 20\n",
    "\n",
    "numbers = list(range(1, 21))\n",
    "print(numbers)\n"
   ]
  },
  {
   "cell_type": "code",
   "execution_count": 4,
   "id": "487873ac",
   "metadata": {},
   "outputs": [
    {
     "name": "stdout",
     "output_type": "stream",
     "text": [
      "[2, 4, 6, 8, 10, 12, 14, 16, 18, 20, 22, 24, 26, 28, 30, 32, 34, 36, 38, 40, 42, 44, 46, 48, 50, 52, 54, 56, 58, 60, 62, 64, 66, 68, 70, 72, 74, 76, 78, 80, 82, 84, 86, 88, 90, 92, 94, 96, 98, 100]\n"
     ]
    }
   ],
   "source": [
    "# now get a list with only the even numbers between 1 and 100\n",
    "# you may or may not make use of the list you made in the last cell\n",
    "\n",
    "even_numbers = list(range(2, 101, 2))\n",
    "print(even_numbers)\n"
   ]
  },
  {
   "cell_type": "code",
   "execution_count": 5,
   "id": "3d4bb5dd",
   "metadata": {},
   "outputs": [
    {
     "name": "stdout",
     "output_type": "stream",
     "text": [
      "5.0\n"
     ]
    }
   ],
   "source": [
    "# write a function that takes two numbers as arguments\n",
    "# and returns the first number divided by the second\n",
    "\n",
    "def divide_numbers(num1, num2):\n",
    "    if num2 == 0:\n",
    "        return \"Error: Division by zero is not allowed\"\n",
    "    return num1 / num2\n",
    "\n",
    "\n",
    "result = divide_numbers(10, 2)\n",
    "print(result)\n"
   ]
  },
  {
   "cell_type": "code",
   "execution_count": 6,
   "id": "f55df04e",
   "metadata": {},
   "outputs": [
    {
     "name": "stdout",
     "output_type": "stream",
     "text": [
      "1\n",
      "2\n",
      "fizz\n",
      "buzz\n",
      "4\n",
      "5\n",
      "fizz\n",
      "buzz\n",
      "7\n",
      "8\n",
      "fizz\n",
      "buzz\n",
      "10\n",
      "11\n",
      "fizz\n",
      "buzz\n",
      "13\n",
      "14\n",
      "fizzbuzz\n",
      "16\n",
      "17\n",
      "fizz\n",
      "buzz\n",
      "19\n",
      "20\n",
      "fizz\n",
      "buzz\n",
      "22\n",
      "23\n",
      "fizz\n",
      "buzz\n",
      "25\n",
      "26\n",
      "fizz\n",
      "buzz\n",
      "28\n",
      "29\n",
      "fizzbuzz\n"
     ]
    }
   ],
   "source": [
    "# fizzbuzz\n",
    "# you will need to use both iteration and control flow \n",
    "# go through all numbers from 1 to 30 in order\n",
    "# if the number is a multiple of 3, print fizz\n",
    "# if the number is a multiple of 5, print buzz\n",
    "# if the number is a multiple of 3 and 5, print fizzbuzz and NOTHING ELSE\n",
    "# if the number is neither a multiple of 3 nor a multiple of 5, print the number\n",
    "\n",
    "for i in range(1, 31):\n",
    "    if i % 3 == 0 and i % 5 == 0:\n",
    "        print(\"fizzbuzz\")\n",
    "    elif i % 3 == 0:\n",
    "        print(\"fizz\")  \n",
    "        print(\"buzz\") \n",
    "    else:\n",
    "        print(i) \n",
    "\n",
    "\n"
   ]
  },
  {
   "cell_type": "code",
   "execution_count": 7,
   "id": "78aace0b",
   "metadata": {},
   "outputs": [
    {
     "name": "stdout",
     "output_type": "stream",
     "text": [
      "{'Gyro': 9, 'Burger': 9, 'Greek Salad': 8, 'Philly Steak': 10}\n"
     ]
    }
   ],
   "source": [
    "# create a dictionary that reflects the following menu pricing (taken from Ahmo's)\n",
    "# Gyro: $9 \n",
    "# Burger: $9\n",
    "# Greek Salad: $8\n",
    "# Philly Steak: $10\n",
    "\n",
    "menu = {\n",
    "    \"Gyro\": 9,\n",
    "    \"Burger\": 9,\n",
    "    \"Greek Salad\": 8,\n",
    "    \"Philly Steak\": 10\n",
    "}\n",
    "\n",
    "print(menu)\n"
   ]
  },
  {
   "cell_type": "code",
   "execution_count": 9,
   "metadata": {
    "colab": {},
    "colab_type": "code",
    "id": "WzCQ5HOJshvA"
   },
   "outputs": [
    {
     "name": "stdout",
     "output_type": "stream",
     "text": [
      "         beverage_category       beverage      beverage_prep  calories  \\\n",
      "0                   coffee  brewed coffee              Short         3   \n",
      "1                   coffee  brewed coffee               Tall         4   \n",
      "2                   coffee  brewed coffee             Grande         5   \n",
      "3                   coffee  brewed coffee              Venti         5   \n",
      "4  classic espresso drinks     caff latte  Short Nonfat Milk        70   \n",
      "\n",
      "   total fat  trans fat  saturated fat  sodium  total carbohydrates  \\\n",
      "0        0.1        0.0            0.0       0                    5   \n",
      "1        0.1        0.0            0.0       0                   10   \n",
      "2        0.1        0.0            0.0       0                   10   \n",
      "3        0.1        0.0            0.0       0                   10   \n",
      "4        0.1        0.1            0.0       5                   75   \n",
      "\n",
      "   cholesterol  dietary fibre  sugars  protein  vitamin a  vitamin c  calcium  \\\n",
      "0            0              0       0      0.3          0          0        0   \n",
      "1            0              0       0      0.5          0          0        0   \n",
      "2            0              0       0      1.0          0          0        0   \n",
      "3            0              0       0      1.0          0          0        2   \n",
      "4           10              0       9      6.0         10          0       20   \n",
      "\n",
      "   iron  caffeine  \n",
      "0   0.0     175.0  \n",
      "1   0.0     260.0  \n",
      "2   0.0     330.0  \n",
      "3   0.0     410.0  \n",
      "4   0.0      75.0  \n"
     ]
    }
   ],
   "source": [
    "# load in the \"starbucks.csv\" dataset\n",
    "# refer to how we read the cereal.csv dataset in the tutorial\n",
    "\n",
    "import pandas as pd\n",
    "\n",
    "starbucks_df = pd.read_csv('/Users/juhyunlee/Downloads/MDST-Onboarding-main/data/starbucks.csv')\n",
    "\n",
    "print(starbucks_df.head())\n",
    "\n",
    "\n"
   ]
  },
  {
   "cell_type": "code",
   "execution_count": 11,
   "id": "ac0f0c12",
   "metadata": {},
   "outputs": [
    {
     "name": "stdout",
     "output_type": "stream",
     "text": [
      "              beverage_category  \\\n",
      "81    signature espresso drinks   \n",
      "83    signature espresso drinks   \n",
      "84    signature espresso drinks   \n",
      "85    signature espresso drinks   \n",
      "128             tazo tea drinks   \n",
      "214  frappuccino blended coffee   \n",
      "215  frappuccino blended coffee   \n",
      "216  frappuccino blended coffee   \n",
      "\n",
      "                                          beverage      beverage_prep  \\\n",
      "81   white chocolate mocha (without whipped cream)            2% Milk   \n",
      "83   white chocolate mocha (without whipped cream)  Venti Nonfat Milk   \n",
      "84   white chocolate mocha (without whipped cream)            2% Milk   \n",
      "85   white chocolate mocha (without whipped cream)            Soymilk   \n",
      "128                           tazo green tea latte            2% Milk   \n",
      "214              java chip (without whipped cream)  Venti Nonfat Milk   \n",
      "215              java chip (without whipped cream)         Whole Milk   \n",
      "216              java chip (without whipped cream)            Soymilk   \n",
      "\n",
      "     calories  total fat  trans fat  saturated fat  sodium  \\\n",
      "81        400       11.0        7.0            0.2      25   \n",
      "83        450        7.0        6.0            0.0      10   \n",
      "84        510       15.0        9.0            0.2      35   \n",
      "85        460       13.0        6.0            0.0       5   \n",
      "128       450       10.0        5.0            0.3      40   \n",
      "214       420        5.0        4.0            0.0       5   \n",
      "215       460       10.0        7.0            0.2      15   \n",
      "216       430        8.0        4.5            0.0       0   \n",
      "\n",
      "     total carbohydrates  cholesterol  dietary fibre  sugars  protein  \\\n",
      "81                   250           61              0      58     15.0   \n",
      "83                   310           78              0      74     19.0   \n",
      "84                   330           77              0      74     19.0   \n",
      "85                   290           70              1      64     16.0   \n",
      "128                  230           72              2      71     17.0   \n",
      "214                  340           90              2      84      7.0   \n",
      "215                  340           90              2      84      7.0   \n",
      "216                  330           88              3      80      6.0   \n",
      "\n",
      "     vitamin a  vitamin c  calcium  iron  caffeine  \n",
      "81          15          2       45   0.0     150.0  \n",
      "83          25          2       60   2.0     150.0  \n",
      "84          20          4       60   2.0     150.0  \n",
      "85          15          2       60  20.0     150.0  \n",
      "128         25         20       50   6.0     110.0  \n",
      "214         10          0       20  35.0     145.0  \n",
      "215          6          0       15  35.0     145.0  \n",
      "216          6          0       20  40.0     145.0  \n"
     ]
    }
   ],
   "source": [
    "# select all rows with more than and including 400 calories\n",
    "\n",
    "\n",
    "high_calories = starbucks_df[starbucks_df['calories'] >= 400]\n",
    "\n",
    "print(high_calories)\n"
   ]
  },
  {
   "cell_type": "code",
   "execution_count": null,
   "id": "ee8f8241",
   "metadata": {},
   "outputs": [],
   "source": [
    "# select all rows whose vitamin c content is higher than the iron content\n",
    "\n",
    "high_vitamin_c = starbucks_df[starbucks_df['Vitamin C'] > starbucks_df['Iron']]\n",
    "\n",
    "print(high_vitamin_c)\n"
   ]
  },
  {
   "cell_type": "code",
   "execution_count": 14,
   "id": "d4de48bb",
   "metadata": {},
   "outputs": [
    {
     "name": "stdout",
     "output_type": "stream",
     "text": [
      "         beverage_category       beverage      beverage_prep  calories  \\\n",
      "0                   coffee  brewed coffee              Short         3   \n",
      "1                   coffee  brewed coffee               Tall         4   \n",
      "2                   coffee  brewed coffee             Grande         5   \n",
      "3                   coffee  brewed coffee              Venti         5   \n",
      "4  classic espresso drinks     caff latte  Short Nonfat Milk        70   \n",
      "\n",
      "   total fat  trans fat  saturated fat  sodium  total carbohydrates  \\\n",
      "0        0.1        0.0            0.0       0                    5   \n",
      "1        0.1        0.0            0.0       0                   10   \n",
      "2        0.1        0.0            0.0       0                   10   \n",
      "3        0.1        0.0            0.0       0                   10   \n",
      "4        0.1        0.1            0.0       5                   75   \n",
      "\n",
      "   cholesterol  dietary fibre  sugars  protein  vitamin a  vitamin c  calcium  \\\n",
      "0            0              0       0      0.3          0          0        0   \n",
      "1            0              0       0      0.5          0          0        0   \n",
      "2            0              0       0      1.0          0          0        0   \n",
      "3            0              0       0      1.0          0          0        2   \n",
      "4           10              0       9      6.0         10          0       20   \n",
      "\n",
      "   iron  caffeine  Caffeine_per_Calorie  \n",
      "0   0.0     175.0             58.333333  \n",
      "1   0.0     260.0             65.000000  \n",
      "2   0.0     330.0             66.000000  \n",
      "3   0.0     410.0             82.000000  \n",
      "4   0.0      75.0              1.071429  \n"
     ]
    }
   ],
   "source": [
    "# create a new column containing the caffeine per calories of each drink\n",
    "\n",
    "starbucks_df['Caffeine_per_Calorie'] = starbucks_df['caffeine'] / starbucks_df['calories']\n",
    "starbucks_df['Caffeine_per_Calorie'].fillna(0, inplace=True)\n",
    "print(starbucks_df.head())\n",
    "\n"
   ]
  },
  {
   "cell_type": "code",
   "execution_count": 16,
   "metadata": {
    "colab": {},
    "colab_type": "code",
    "id": "rIoxaSxHshvB"
   },
   "outputs": [
    {
     "name": "stdout",
     "output_type": "stream",
     "text": [
      "The average calorie count across all items is: 193.87190082644628\n"
     ]
    }
   ],
   "source": [
    "# what is the average calorie across all items?\n",
    "\n",
    "\n",
    "average_calories = starbucks_df['calories'].mean()\n",
    "\n",
    "print(f\"The average calorie count across all items is: {average_calories}\")\n",
    "\n"
   ]
  },
  {
   "cell_type": "code",
   "execution_count": 19,
   "metadata": {
    "colab": {},
    "colab_type": "code",
    "id": "ABX7i49FshvD"
   },
   "outputs": [
    {
     "name": "stdout",
     "output_type": "stream",
     "text": [
      "There are 9 different categories of beverages.\n"
     ]
    }
   ],
   "source": [
    "# how many different categories of beverages are there?\n",
    "\n",
    "num_categories = starbucks_df['beverage_category'].nunique()\n",
    "\n",
    "print(f\"There are {num_categories} different categories of beverages.\")\n",
    "\n",
    "\n"
   ]
  },
  {
   "cell_type": "code",
   "execution_count": 21,
   "metadata": {
    "colab": {},
    "colab_type": "code",
    "id": "P9QatZAzshvE"
   },
   "outputs": [
    {
     "name": "stdout",
     "output_type": "stream",
     "text": [
      "beverage_category\n",
      "classic espresso drinks             140.172414\n",
      "coffee                                4.250000\n",
      "frappuccino blended coffee          276.944444\n",
      "frappuccino blended crme            233.076923\n",
      "frappuccino light blended coffee    162.500000\n",
      "shaken iced beverages               114.444444\n",
      "signature espresso drinks           250.000000\n",
      "smoothies                           282.222222\n",
      "tazo tea drinks                     177.307692\n",
      "Name: calories, dtype: float64\n"
     ]
    }
   ],
   "source": [
    "# what is the average # calories for each beverage category?\n",
    "\n",
    "average_calories_per_category = starbucks_df.groupby('beverage_category')['calories'].mean()\n",
    "\n",
    "print(average_calories_per_category)\n",
    "\n"
   ]
  }
 ],
 "metadata": {
  "kernelspec": {
   "display_name": "Python 3.9.0 64-bit",
   "language": "python",
   "name": "python3"
  },
  "language_info": {
   "codemirror_mode": {
    "name": "ipython",
    "version": 3
   },
   "file_extension": ".py",
   "mimetype": "text/x-python",
   "name": "python",
   "nbconvert_exporter": "python",
   "pygments_lexer": "ipython3",
   "version": "3.11.9"
  },
  "vscode": {
   "interpreter": {
    "hash": "6cf8df3ff69f85f626faf55c10df6fe2cb9d1236b4dc73844ee4dc01369c2c99"
   }
  }
 },
 "nbformat": 4,
 "nbformat_minor": 5
}
